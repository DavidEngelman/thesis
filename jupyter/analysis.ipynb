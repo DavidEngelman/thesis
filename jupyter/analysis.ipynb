{
 "cells": [
  {
   "cell_type": "code",
   "execution_count": 22,
   "metadata": {},
   "outputs": [],
   "source": [
    "import os\n",
    "import numpy as np\n",
    "import matplotlib.pyplot as plt\n",
    "import subprocess\n",
    "import resource\n",
    "from datetime import datetime"
   ]
  },
  {
   "cell_type": "markdown",
   "metadata": {},
   "source": [
    "## Run times analyis"
   ]
  },
  {
   "cell_type": "code",
   "execution_count": 2,
   "metadata": {},
   "outputs": [],
   "source": [
    "DATA_FOLDER = \"../saved_ll/\""
   ]
  },
  {
   "cell_type": "code",
   "execution_count": 16,
   "metadata": {},
   "outputs": [],
   "source": [
    "def time_file(file, total_runs):\n",
    "    subprocess.run([\"clang-7\", \n",
    "                        \"-o\", \"res\", \n",
    "                        file, \n",
    "                        \"-mllvm\", \"-enable-misched=false\",\n",
    "                        \"-lm\",\n",
    "                        ])\n",
    "    pid = os.getpid()\n",
    "    os.sched_setaffinity(pid, {0})\n",
    "    times = []\n",
    "    for i in range(total_runs):\n",
    "        usage_start = resource.getrusage(resource.RUSAGE_CHILDREN)\n",
    "        subprocess.run([\"./res\"], stdout=subprocess.DEVNULL, stderr=subprocess.DEVNULL)\n",
    "        usage_end = resource.getrusage(resource.RUSAGE_CHILDREN)\n",
    "        times.append(usage_end.ru_utime - usage_start.ru_utime)\n",
    "        \n",
    "    min_time = min(times)\n",
    "    avg_time = np.mean(times)\n",
    "    std_time = np.std(times)\n",
    "    os.sched_setaffinity(pid, {0, 1, 2, 3})\n",
    "    subprocess.run([\"rm\", \"res\"])\n",
    "    \n",
    "    return {\"min\": min_time, \"avg\": avg_time, \"std\": std_time}"
   ]
  },
  {
   "cell_type": "code",
   "execution_count": 27,
   "metadata": {},
   "outputs": [],
   "source": [
    "run_times = {file: {} for file in os.listdir(DATA_FOLDER)}"
   ]
  },
  {
   "cell_type": "code",
   "execution_count": 28,
   "metadata": {},
   "outputs": [],
   "source": [
    "total_runs = 10\n",
    "for file in run_times:\n",
    "    res = time_file(f\"{DATA_FOLDER}{file}\", total_runs)\n",
    "    now = datetime.now()\n",
    "    date = now.strftime(\"%d/%m %H:%M\")\n",
    "    run_times[file][(date, total_runs)] = res"
   ]
  },
  {
   "cell_type": "code",
   "execution_count": 29,
   "metadata": {},
   "outputs": [
    {
     "data": {
      "text/plain": [
       "{'0.4608.ll': {('24/03 11:46', 10): {'min': 0.0,\n",
       "   'avg': 0.00031349999999999987,\n",
       "   'std': 0.0009404999999999996}},\n",
       " '0.5112.ll': {('24/03 11:46', 10): {'min': 0.0,\n",
       "   'avg': 0.001328600000000002,\n",
       "   'std': 0.0016273370394604826}},\n",
       " '0.4471.ll': {('24/03 11:46', 10): {'min': 0.0,\n",
       "   'avg': 0.0010268000000000054,\n",
       "   'std': 0.0015713471799701118}},\n",
       " '0.4508.ll': {('24/03 11:46', 10): {'min': 0.0,\n",
       "   'avg': 0.001583800000000002,\n",
       "   'std': 0.0015865216544377833}},\n",
       " '0.455.ll': {('24/03 11:46', 10): {'min': 0.0,\n",
       "   'avg': 0.0013145000000000073,\n",
       "   'std': 0.0016119047273334829}},\n",
       " '0.5143.ll': {('24/03 11:46', 10): {'min': 0.0,\n",
       "   'avg': 0.0005789999999999962,\n",
       "   'std': 0.0012117445275304408}},\n",
       " '0.4446.ll': {('24/03 11:46', 10): {'min': 0.0,\n",
       "   'avg': 0.0006435999999999997,\n",
       "   'std': 0.0012888549336523489}},\n",
       " '0.4457.ll': {('24/03 11:46', 10): {'min': 0.0,\n",
       "   'avg': 0.0009452000000000016,\n",
       "   'std': 0.001446856786278447}},\n",
       " '0.4989.ll': {('24/03 11:46', 10): {'min': 0.0,\n",
       "   'avg': 0.000985999999999998,\n",
       "   'std': 0.0015094775255034398}},\n",
       " '0.5164.ll': {('24/03 11:46', 10): {'min': 0.0,\n",
       "   'avg': 0.0006909000000000054,\n",
       "   'std': 0.0013821199984082539}},\n",
       " '0.4702.ll': {('24/03 11:46', 10): {'min': 0.0,\n",
       "   'avg': 0.0002866999999999953,\n",
       "   'std': 0.0008600999999999859}},\n",
       " '0.4422.ll': {('24/03 11:46', 10): {'min': 0.0,\n",
       "   'avg': 0.0006564000000000014,\n",
       "   'std': 0.001312810968875568}},\n",
       " '0.5005.ll': {('24/03 11:46', 10): {'min': 0.0,\n",
       "   'avg': 0.0006731000000000043,\n",
       "   'std': 0.0013462343369562459}},\n",
       " '0.4503.ll': {('24/03 11:46', 10): {'min': 0.0,\n",
       "   'avg': 0.000302200000000008,\n",
       "   'std': 0.000906600000000024}},\n",
       " '0.4868.ll': {('24/03 11:46', 10): {'min': 0.0,\n",
       "   'avg': 0.0006801999999999975,\n",
       "   'std': 0.0013605006284452734}},\n",
       " '0.5036.ll': {('24/03 11:46', 10): {'min': 0.0,\n",
       "   'avg': 0.0006426000000000042,\n",
       "   'std': 0.001285977853619578}},\n",
       " '0.4472.ll': {('24/03 11:46', 10): {'min': 0.0,\n",
       "   'avg': 0.0018164000000000069,\n",
       "   'std': 0.0015077175597571306}},\n",
       " '0.4419.ll': {('24/03 11:46', 10): {'min': 0.0, 'avg': 0.0, 'std': 0.0}},\n",
       " '0.4451.ll': {('24/03 11:46', 10): {'min': 0.0,\n",
       "   'avg': 0.0010125000000000162,\n",
       "   'std': 0.0015552947791335513}},\n",
       " '0.4397.ll': {('24/03 11:46', 10): {'min': 0.0,\n",
       "   'avg': 0.001613399999999987,\n",
       "   'std': 0.001615790778535378}},\n",
       " '0.5077.ll': {('24/03 11:46', 10): {'min': 0.0,\n",
       "   'avg': 0.00033600000000000296,\n",
       "   'std': 0.0010080000000000089}},\n",
       " '0.4483.ll': {('24/03 11:46', 10): {'min': 0.0,\n",
       "   'avg': 0.001329099999999994,\n",
       "   'std': 0.001627938355712519}}}"
      ]
     },
     "execution_count": 29,
     "metadata": {},
     "output_type": "execute_result"
    }
   ],
   "source": [
    "run_times"
   ]
  }
 ],
 "metadata": {
  "kernelspec": {
   "display_name": "Python 3",
   "language": "python",
   "name": "python3"
  },
  "language_info": {
   "codemirror_mode": {
    "name": "ipython",
    "version": 3
   },
   "file_extension": ".py",
   "mimetype": "text/x-python",
   "name": "python",
   "nbconvert_exporter": "python",
   "pygments_lexer": "ipython3",
   "version": "3.7.3"
  }
 },
 "nbformat": 4,
 "nbformat_minor": 4
}
